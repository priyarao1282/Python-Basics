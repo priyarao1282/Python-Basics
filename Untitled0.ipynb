{
  "nbformat": 4,
  "nbformat_minor": 0,
  "metadata": {
    "colab": {
      "provenance": [],
      "toc_visible": true
    },
    "kernelspec": {
      "name": "python3",
      "display_name": "Python 3"
    },
    "language_info": {
      "name": "python"
    }
  },
  "cells": [
    {
      "cell_type": "code",
      "execution_count": null,
      "metadata": {
        "id": "IRa7s0GwJT2-"
      },
      "outputs": [],
      "source": []
    },
    {
      "cell_type": "markdown",
      "source": [],
      "metadata": {
        "id": "r9PvSOmZKgtA"
      }
    },
    {
      "cell_type": "markdown",
      "source": [
        "# python Basics\n"
      ],
      "metadata": {
        "id": "tyaG5kS5KX4f"
      }
    },
    {
      "cell_type": "markdown",
      "source": [
        "1. What is Python, and why is it popular?\n",
        "    \n",
        "    -> Python is a high-level, interpreted programming language known for its readability, simplicity, and versatility. It's popular because it's beginner-friendly, supports multiple programming paradigms, and has vast libraries for web development, data science, AI, automation, and more.\n",
        "\n"
      ],
      "metadata": {
        "id": "lVvjZmg-Kkey"
      }
    },
    {
      "cell_type": "markdown",
      "source": [
        "2. What is an interpreter in Python?\n",
        "    \n",
        "    -> An interpreter translates Python code into machine code line by line at runtime, allowing immediate execution and debugging.\n",
        "\n",
        "\n"
      ],
      "metadata": {
        "id": "Zu0WKrHrLFwa"
      }
    },
    {
      "cell_type": "markdown",
      "source": [
        "3. What are pre-defined keywords in Python?\n",
        "   \n",
        "    -> Pre-defined keywords are reserved words that have special meaning in Python (e.g., if, for, def, class). They cannot be used for variable names.\n",
        "\n"
      ],
      "metadata": {
        "id": "ittRBYsKLcIX"
      }
    },
    {
      "cell_type": "markdown",
      "source": [
        "4. Can keywords be used as variable names?\n",
        "    \n",
        "    -> No, keywords cannot be used as variable names because they are reserved for the syntax and structure of Python.\n",
        "\n"
      ],
      "metadata": {
        "id": "etH50fNNLvaC"
      }
    },
    {
      "cell_type": "markdown",
      "source": [
        "5. What is mutability in Python?\n",
        "    \n",
        "    -> Mutability refers to whether an object can be changed after it is created. Mutable objects can be modified, while immutable ones cannot.\n",
        "\n"
      ],
      "metadata": {
        "id": "P-kabr03L8AS"
      }
    },
    {
      "cell_type": "markdown",
      "source": [
        "6. Why are lists mutable, but tuples are immutable?\n",
        "    \n",
        "    -> Lists are designed for dynamic data, so they can change (add/delete/modify items). Tuples are fixed collections used for safer, constant data.\n",
        "\n"
      ],
      "metadata": {
        "id": "ByVFAZwNMJ6F"
      }
    },
    {
      "cell_type": "markdown",
      "source": [
        "7. What is the difference between == and is operators in Python?\n",
        "  \n",
        "    -> == checks if values are equal, whereas is checks if two references point to the same object in memory.\n",
        "\n"
      ],
      "metadata": {
        "id": "tzjXtV5eMhff"
      }
    },
    {
      "cell_type": "markdown",
      "source": [
        "8. What are logical operators in Python?\n",
        "    \n",
        "     -> Logical operators are:\n",
        "\n",
        "       1) and: Returns True if both conditions are true\n",
        "\n",
        "       2) or: Returns True if at least one condition is true\n",
        "\n",
        "       3) not: Inverts the boolean value\n",
        "\n"
      ],
      "metadata": {
        "id": "0ybQRc0SMzUD"
      }
    },
    {
      "cell_type": "markdown",
      "source": [
        "9. What is type casting in Python?\n",
        "   \n",
        "    ->Type casting is converting one data type to another, such as from string to integer.\n",
        "\n"
      ],
      "metadata": {
        "id": "77IWCisaNcYB"
      }
    },
    {
      "cell_type": "markdown",
      "source": [
        "10. What is the difference between implicit and explicit type casting?\n",
        "-> 1) Implicit: Done automatically by Python (e.g., int to float).\n",
        "  \n",
        " 2) Explicit: Done manually by the programmer using functions like int(), float(), str(), etc.\n",
        "\n",
        "\n",
        "\n",
        "\n",
        "\n",
        "\n",
        "\n",
        "\n",
        "\n",
        "\n",
        "\n",
        "\n",
        "\n"
      ],
      "metadata": {
        "id": "trnA8eR-NqL6"
      }
    },
    {
      "cell_type": "markdown",
      "source": [
        "11. What is the purpose of conditional statements in Python?\n",
        "    \n",
        "    -> They allow decision-making in programs (e.g., executing certain code only if a condition is met).\n",
        "\n"
      ],
      "metadata": {
        "id": "D72NZIi4Ooq4"
      }
    },
    {
      "cell_type": "markdown",
      "source": [
        "12. How does the elif statement work?\n",
        "    \n",
        "    ->elif stands for \"else if\". It checks another condition if the previous if condition is false.\n",
        "\n"
      ],
      "metadata": {
        "id": "wnuKOhmMRhFB"
      }
    },
    {
      "cell_type": "markdown",
      "source": [
        "13. What is the difference between for and while loops?\n",
        "  \n",
        "    -> 1. What is the difference between for and while\n",
        "      \n",
        "       2.while: Used when the loop should continue until a condition becomes false.\n",
        "\n",
        "       \n",
        "\n",
        "\n",
        "\n",
        "\n",
        "\n",
        "\n",
        "\n",
        "\n",
        "\n",
        "\n"
      ],
      "metadata": {
        "id": "joxIwQMwRuz5"
      }
    },
    {
      "cell_type": "markdown",
      "source": [
        "14. Describe a scenario where a while loop is more suitable than a for loop.\n",
        "   \n",
        "    -> When waiting for a user to enter valid input. The loop runs until the correct input is received, and the number of attempts is unknown.\n",
        "\n"
      ],
      "metadata": {
        "id": "EnHHObSeRS4q"
      }
    },
    {
      "cell_type": "code",
      "source": [],
      "metadata": {
        "id": "LKV66MCtSmaf"
      },
      "execution_count": null,
      "outputs": []
    },
    {
      "cell_type": "markdown",
      "source": [
        "# practical question\n",
        "\n"
      ],
      "metadata": {
        "id": "F3D3ZTcSSnQb"
      }
    },
    {
      "cell_type": "markdown",
      "source": [
        "\n",
        "\n"
      ],
      "metadata": {
        "id": "xoIb6JLtS5Ps"
      }
    },
    {
      "cell_type": "markdown",
      "source": [],
      "metadata": {
        "id": "tl1Xde1sStb3"
      }
    },
    {
      "cell_type": "markdown",
      "source": [
        "1.  Write a Python program to print \"Hello, World!\n"
      ],
      "metadata": {
        "id": "j6DfvMM8Uqzq"
      }
    },
    {
      "cell_type": "code",
      "source": [
        "print(\"Hello, World!\")\n",
        "\n"
      ],
      "metadata": {
        "id": "Cow63srKUkRb",
        "colab": {
          "base_uri": "https://localhost:8080/"
        },
        "outputId": "76fa93fa-f878-402a-9b5a-5bea6770ecc2"
      },
      "execution_count": null,
      "outputs": [
        {
          "output_type": "stream",
          "name": "stdout",
          "text": [
            "Hello, World!\n"
          ]
        }
      ]
    },
    {
      "cell_type": "markdown",
      "source": [
        "2. Write a Python program that displays your name and age\n"
      ],
      "metadata": {
        "id": "SnmSSYSiUx0o"
      }
    },
    {
      "cell_type": "code",
      "source": [
        "name = \"Priya\"\n",
        "age = 22\n",
        "print(\"Name:\", name)\n",
        "print(\"Age:\", age)\n"
      ],
      "metadata": {
        "id": "DBRsVUqKU6ZM",
        "colab": {
          "base_uri": "https://localhost:8080/"
        },
        "outputId": "bcb909fc-feb8-4cde-e284-5b3958c487d1"
      },
      "execution_count": null,
      "outputs": [
        {
          "output_type": "stream",
          "name": "stdout",
          "text": [
            "Name: Priya\n",
            "Age: 22\n"
          ]
        }
      ]
    },
    {
      "cell_type": "markdown",
      "source": [
        "3. Write code to print all the pre-defined keywords in Python using the keyword library\n"
      ],
      "metadata": {
        "id": "1w_6WKwTVGAG"
      }
    },
    {
      "cell_type": "code",
      "source": [
        "import keyword\n",
        "print(\"Python Keywords are:\")\n",
        "print(keyword.kwlist)\n"
      ],
      "metadata": {
        "id": "J-iKvZxtVS3g",
        "colab": {
          "base_uri": "https://localhost:8080/"
        },
        "outputId": "9734226b-3f06-4ecd-fca2-6941c932a914"
      },
      "execution_count": null,
      "outputs": [
        {
          "output_type": "stream",
          "name": "stdout",
          "text": [
            "Python Keywords are:\n",
            "['False', 'None', 'True', 'and', 'as', 'assert', 'async', 'await', 'break', 'class', 'continue', 'def', 'del', 'elif', 'else', 'except', 'finally', 'for', 'from', 'global', 'if', 'import', 'in', 'is', 'lambda', 'nonlocal', 'not', 'or', 'pass', 'raise', 'return', 'try', 'while', 'with', 'yield']\n"
          ]
        }
      ]
    },
    {
      "cell_type": "markdown",
      "source": [
        "4. Write a program that checks if a given word is a Python keyword.\n"
      ],
      "metadata": {
        "id": "HzrLy4y9VbWN"
      }
    },
    {
      "cell_type": "code",
      "source": [
        "import keyword\n",
        "word = input(\"Enter a word: \")\n",
        "if keyword.iskeyword(word):\n",
        "    print(f\"'{word}' is a Python keyword.\")\n",
        "else:\n",
        "    print(f\"'{word}' is not a Python keyword.\")\n"
      ],
      "metadata": {
        "id": "rKBZvXmWVnCs",
        "colab": {
          "base_uri": "https://localhost:8080/"
        },
        "outputId": "1dc9adf5-2a2b-4bfa-c661-6110194920cd"
      },
      "execution_count": null,
      "outputs": [
        {
          "output_type": "stream",
          "name": "stdout",
          "text": [
            "Enter a word: \n",
            "'' is not a Python keyword.\n"
          ]
        }
      ]
    },
    {
      "cell_type": "markdown",
      "source": [
        "5. 5. Create a list and tuple in Python, and demonstrate how attempting to change an element works differently\n",
        "for each"
      ],
      "metadata": {
        "id": "iqPTHY1vWHSn"
      }
    },
    {
      "cell_type": "code",
      "source": [
        "# List (mutable)\n",
        "my_list = [1, 2, 3]\n",
        "my_list[0] = 10\n",
        "print(\"Modified List:\", my_list)\n",
        "\n",
        "# Tuple (immutable)\n",
        "my_tuple = (1, 2, 3)\n",
        "try:\n",
        "    my_tuple[0] = 10\n",
        "except TypeError:\n",
        "    print(\"Tuple is immutable and cannot be changed.\")\n"
      ],
      "metadata": {
        "id": "nnE2NPAkWVdy",
        "colab": {
          "base_uri": "https://localhost:8080/"
        },
        "outputId": "072c4062-1360-4e11-a029-c4ee96daa9ec"
      },
      "execution_count": null,
      "outputs": [
        {
          "output_type": "stream",
          "name": "stdout",
          "text": [
            "Modified List: [10, 2, 3]\n",
            "Tuple is immutable and cannot be changed.\n"
          ]
        }
      ]
    },
    {
      "cell_type": "markdown",
      "source": [
        "6. 6. Write a function to demonstrate the behavior of mutable and immutable arguments.\n"
      ],
      "metadata": {
        "id": "KxMduT0hWs6E"
      }
    },
    {
      "cell_type": "markdown",
      "source": [],
      "metadata": {
        "id": "RkGLVgW9hNnp"
      }
    },
    {
      "cell_type": "code",
      "source": [
        "def modify_list(lst):\n",
        "    lst.append(100)\n",
        "\n",
        "def modify_int(n):\n",
        "    n += 10\n",
        "\n",
        "my_list = [1, 2, 3]\n",
        "my_num = 5\n",
        "\n",
        "modify_list(my_list)\n",
        "modify_int(my_num)\n",
        "\n",
        "print(\"List after function call:\", my_list)  # Mutable\n",
        "print(\"Integer after function call:\", my_num)  # Immutable\n"
      ],
      "metadata": {
        "id": "J6ktYjQcW3Nn",
        "colab": {
          "base_uri": "https://localhost:8080/"
        },
        "outputId": "bf0e741d-830b-4ad2-cc85-3855fc13d84d"
      },
      "execution_count": null,
      "outputs": [
        {
          "output_type": "stream",
          "name": "stdout",
          "text": [
            "List after function call: [1, 2, 3, 100]\n",
            "Integer after function call: 5\n"
          ]
        }
      ]
    },
    {
      "cell_type": "markdown",
      "source": [
        "7. 7. Write a program that performs basic arithmetic operations on two user-input numbers.\n"
      ],
      "metadata": {
        "id": "ry3R85gjXEPf"
      }
    },
    {
      "cell_type": "code",
      "source": [
        "\n",
        "a = int(input(\"Enter first number: \"))\n",
        "b = int(input(\"Enter second number: \"))\n",
        "\n",
        "print(\"Sum:\", a + b)\n",
        "print(\"Difference:\", a - b)\n",
        "print(\"Product:\", a * b)\n",
        "print(\"Quotient:\", a / b if b != 0 else \"Division by zero error\")\n"
      ],
      "metadata": {
        "id": "WQsOen2PXNZ5",
        "colab": {
          "base_uri": "https://localhost:8080/"
        },
        "outputId": "cba70372-c26a-403b-cb20-7a4ba176b825"
      },
      "execution_count": null,
      "outputs": [
        {
          "output_type": "stream",
          "name": "stdout",
          "text": [
            "Enter first number: 1\n",
            "Enter second number: 2\n",
            "Sum: 3\n",
            "Difference: -1\n",
            "Product: 2\n",
            "Quotient: 0.5\n"
          ]
        }
      ]
    },
    {
      "cell_type": "markdown",
      "source": [
        "8. Write a program to demonstrate the use of logical operators.\n",
        "\n",
        "\n"
      ],
      "metadata": {
        "id": "fmnQANBcXWu9"
      }
    },
    {
      "cell_type": "code",
      "source": [
        "x = True\n",
        "y = False\n",
        "\n",
        "print(\"x and y:\", x and y)\n",
        "print(\"x or y:\", x or y)\n",
        "print(\"not x:\", not x)\n"
      ],
      "metadata": {
        "id": "smLUeeLMXnFW",
        "colab": {
          "base_uri": "https://localhost:8080/"
        },
        "outputId": "d10bb47c-2d8e-43e4-9bd7-dc569b9fca96"
      },
      "execution_count": null,
      "outputs": [
        {
          "output_type": "stream",
          "name": "stdout",
          "text": [
            "x and y: False\n",
            "x or y: True\n",
            "not x: False\n"
          ]
        }
      ]
    },
    {
      "cell_type": "markdown",
      "source": [
        "9. Write a Python program to convert user input from string to integer, float, and boolean types.\n"
      ],
      "metadata": {
        "id": "b-UVCdU4Xvmx"
      }
    },
    {
      "cell_type": "code",
      "source": [
        "user_input = input(\"Enter something: \")\n",
        "print(\"As Integer:\", int(user_input))\n",
        "print(\"As Float:\", float(user_input))\n",
        "print(\"As Boolean:\", bool(user_input))\n"
      ],
      "metadata": {
        "id": "48zj2r38X4Vs",
        "colab": {
          "base_uri": "https://localhost:8080/",
          "height": 356
        },
        "outputId": "0431a182-f78b-4db9-dc3b-d6525ec64b0f"
      },
      "execution_count": null,
      "outputs": [
        {
          "output_type": "error",
          "ename": "KeyboardInterrupt",
          "evalue": "Interrupted by user",
          "traceback": [
            "\u001b[0;31m---------------------------------------------------------------------------\u001b[0m",
            "\u001b[0;31mKeyboardInterrupt\u001b[0m                         Traceback (most recent call last)",
            "\u001b[0;32m<ipython-input-2-483168230>\u001b[0m in \u001b[0;36m<cell line: 0>\u001b[0;34m()\u001b[0m\n\u001b[0;32m----> 1\u001b[0;31m \u001b[0muser_input\u001b[0m \u001b[0;34m=\u001b[0m \u001b[0minput\u001b[0m\u001b[0;34m(\u001b[0m\u001b[0;34m\"Enter something: \"\u001b[0m\u001b[0;34m)\u001b[0m\u001b[0;34m\u001b[0m\u001b[0;34m\u001b[0m\u001b[0m\n\u001b[0m\u001b[1;32m      2\u001b[0m \u001b[0mprint\u001b[0m\u001b[0;34m(\u001b[0m\u001b[0;34m\"As Integer:\"\u001b[0m\u001b[0;34m,\u001b[0m \u001b[0mint\u001b[0m\u001b[0;34m(\u001b[0m\u001b[0muser_input\u001b[0m\u001b[0;34m)\u001b[0m\u001b[0;34m)\u001b[0m\u001b[0;34m\u001b[0m\u001b[0;34m\u001b[0m\u001b[0m\n\u001b[1;32m      3\u001b[0m \u001b[0mprint\u001b[0m\u001b[0;34m(\u001b[0m\u001b[0;34m\"As Float:\"\u001b[0m\u001b[0;34m,\u001b[0m \u001b[0mfloat\u001b[0m\u001b[0;34m(\u001b[0m\u001b[0muser_input\u001b[0m\u001b[0;34m)\u001b[0m\u001b[0;34m)\u001b[0m\u001b[0;34m\u001b[0m\u001b[0;34m\u001b[0m\u001b[0m\n\u001b[1;32m      4\u001b[0m \u001b[0mprint\u001b[0m\u001b[0;34m(\u001b[0m\u001b[0;34m\"As Boolean:\"\u001b[0m\u001b[0;34m,\u001b[0m \u001b[0mbool\u001b[0m\u001b[0;34m(\u001b[0m\u001b[0muser_input\u001b[0m\u001b[0;34m)\u001b[0m\u001b[0;34m)\u001b[0m\u001b[0;34m\u001b[0m\u001b[0;34m\u001b[0m\u001b[0m\n",
            "\u001b[0;32m/usr/local/lib/python3.11/dist-packages/ipykernel/kernelbase.py\u001b[0m in \u001b[0;36mraw_input\u001b[0;34m(self, prompt)\u001b[0m\n\u001b[1;32m   1175\u001b[0m                 \u001b[0;34m\"raw_input was called, but this frontend does not support input requests.\"\u001b[0m\u001b[0;34m\u001b[0m\u001b[0;34m\u001b[0m\u001b[0m\n\u001b[1;32m   1176\u001b[0m             )\n\u001b[0;32m-> 1177\u001b[0;31m         return self._input_request(\n\u001b[0m\u001b[1;32m   1178\u001b[0m             \u001b[0mstr\u001b[0m\u001b[0;34m(\u001b[0m\u001b[0mprompt\u001b[0m\u001b[0;34m)\u001b[0m\u001b[0;34m,\u001b[0m\u001b[0;34m\u001b[0m\u001b[0;34m\u001b[0m\u001b[0m\n\u001b[1;32m   1179\u001b[0m             \u001b[0mself\u001b[0m\u001b[0;34m.\u001b[0m\u001b[0m_parent_ident\u001b[0m\u001b[0;34m[\u001b[0m\u001b[0;34m\"shell\"\u001b[0m\u001b[0;34m]\u001b[0m\u001b[0;34m,\u001b[0m\u001b[0;34m\u001b[0m\u001b[0;34m\u001b[0m\u001b[0m\n",
            "\u001b[0;32m/usr/local/lib/python3.11/dist-packages/ipykernel/kernelbase.py\u001b[0m in \u001b[0;36m_input_request\u001b[0;34m(self, prompt, ident, parent, password)\u001b[0m\n\u001b[1;32m   1217\u001b[0m             \u001b[0;32mexcept\u001b[0m \u001b[0mKeyboardInterrupt\u001b[0m\u001b[0;34m:\u001b[0m\u001b[0;34m\u001b[0m\u001b[0;34m\u001b[0m\u001b[0m\n\u001b[1;32m   1218\u001b[0m                 \u001b[0;31m# re-raise KeyboardInterrupt, to truncate traceback\u001b[0m\u001b[0;34m\u001b[0m\u001b[0;34m\u001b[0m\u001b[0m\n\u001b[0;32m-> 1219\u001b[0;31m                 \u001b[0;32mraise\u001b[0m \u001b[0mKeyboardInterrupt\u001b[0m\u001b[0;34m(\u001b[0m\u001b[0;34m\"Interrupted by user\"\u001b[0m\u001b[0;34m)\u001b[0m \u001b[0;32mfrom\u001b[0m \u001b[0;32mNone\u001b[0m\u001b[0;34m\u001b[0m\u001b[0;34m\u001b[0m\u001b[0m\n\u001b[0m\u001b[1;32m   1220\u001b[0m             \u001b[0;32mexcept\u001b[0m \u001b[0mException\u001b[0m\u001b[0;34m:\u001b[0m\u001b[0;34m\u001b[0m\u001b[0;34m\u001b[0m\u001b[0m\n\u001b[1;32m   1221\u001b[0m                 \u001b[0mself\u001b[0m\u001b[0;34m.\u001b[0m\u001b[0mlog\u001b[0m\u001b[0;34m.\u001b[0m\u001b[0mwarning\u001b[0m\u001b[0;34m(\u001b[0m\u001b[0;34m\"Invalid Message:\"\u001b[0m\u001b[0;34m,\u001b[0m \u001b[0mexc_info\u001b[0m\u001b[0;34m=\u001b[0m\u001b[0;32mTrue\u001b[0m\u001b[0;34m)\u001b[0m\u001b[0;34m\u001b[0m\u001b[0;34m\u001b[0m\u001b[0m\n",
            "\u001b[0;31mKeyboardInterrupt\u001b[0m: Interrupted by user"
          ]
        }
      ]
    },
    {
      "cell_type": "markdown",
      "source": [
        " 10. Write code to demonstrate type casting with list elements.\n"
      ],
      "metadata": {
        "id": "H4NDCNzxXZIN"
      }
    },
    {
      "cell_type": "code",
      "source": [
        "str_list = [\"1\", \"2\", \"3\"]\n",
        "int_list = [int(x) for x in str_list]\n",
        "print(\"Converted to Integers:\", int_list)\n"
      ],
      "metadata": {
        "id": "tLzwa7lPYRmC",
        "colab": {
          "base_uri": "https://localhost:8080/"
        },
        "outputId": "ce3bfc79-c548-43a8-d32c-e5b56c830cc0"
      },
      "execution_count": null,
      "outputs": [
        {
          "output_type": "stream",
          "name": "stdout",
          "text": [
            "Converted to Integers: [1, 2, 3]\n"
          ]
        }
      ]
    },
    {
      "cell_type": "markdown",
      "source": [
        " 11. Write a program that checks if a number is positive, negative, or zero.\n"
      ],
      "metadata": {
        "id": "4sLSGa2uYZGE"
      }
    },
    {
      "cell_type": "code",
      "source": [
        "num = float(input(\"Enter a number: \"))\n",
        "if num > 0:\n",
        "    print(\"Positive number\")\n",
        "elif num < 0:\n",
        "    print(\"Negative number\")\n",
        "else:\n",
        "    print(\"Zero\")\n"
      ],
      "metadata": {
        "id": "8iBcDnKDYiMS",
        "colab": {
          "base_uri": "https://localhost:8080/"
        },
        "outputId": "73d7995f-bdb2-459a-a01f-43b8e8ba6256"
      },
      "execution_count": null,
      "outputs": [
        {
          "output_type": "stream",
          "name": "stdout",
          "text": [
            "Enter a number: 1\n",
            "Positive number\n"
          ]
        }
      ]
    },
    {
      "cell_type": "markdown",
      "source": [
        " 12. Write a for loop to print numbers from 1 to 10.\n"
      ],
      "metadata": {
        "id": "ccmK46SnYqGq"
      }
    },
    {
      "cell_type": "code",
      "source": [
        "for i in range(1, 11):\n",
        "    print(i)\n"
      ],
      "metadata": {
        "id": "Dt_B6l26Y3cU",
        "colab": {
          "base_uri": "https://localhost:8080/"
        },
        "outputId": "1ace742a-ff9d-4e5d-cd30-52e232acf8cd"
      },
      "execution_count": null,
      "outputs": [
        {
          "output_type": "stream",
          "name": "stdout",
          "text": [
            "1\n",
            "2\n",
            "3\n",
            "4\n",
            "5\n",
            "6\n",
            "7\n",
            "8\n",
            "9\n",
            "10\n"
          ]
        }
      ]
    },
    {
      "cell_type": "markdown",
      "source": [
        " 13. Write a Python program to find the sum of all even numbers between 1 and 50.\n"
      ],
      "metadata": {
        "id": "itlnTQe7ZGRg"
      }
    },
    {
      "cell_type": "code",
      "source": [
        "total = 0\n",
        "for i in range(1, 51):\n",
        "    if i % 2 == 0:\n",
        "        total += i\n",
        "print(\"Sum of even numbers from 1 to 50:\", total)\n"
      ],
      "metadata": {
        "id": "ZJMY3gOpZOiA",
        "colab": {
          "base_uri": "https://localhost:8080/"
        },
        "outputId": "6c48683d-5280-49a0-cfb6-7dbf3ac726d4"
      },
      "execution_count": null,
      "outputs": [
        {
          "output_type": "stream",
          "name": "stdout",
          "text": [
            "Sum of even numbers from 1 to 50: 650\n"
          ]
        }
      ]
    },
    {
      "cell_type": "markdown",
      "source": [
        " 14. Write a program to reverse a string using a while loop.\n"
      ],
      "metadata": {
        "id": "r5-REO9mZUGr"
      }
    },
    {
      "cell_type": "code",
      "source": [
        "s = input(\"Enter a string: \")\n",
        "reversed_str = \"\"\n",
        "i = len(s) - 1\n",
        "while i >= 0:\n",
        "    reversed_str += s[i]\n",
        "    i -= 1\n",
        "print(\"Reversed string:\", reversed_str)\n"
      ],
      "metadata": {
        "id": "n-e5cUmkZau1",
        "colab": {
          "base_uri": "https://localhost:8080/"
        },
        "outputId": "42018b5d-7323-4b29-db11-989599b39e29"
      },
      "execution_count": null,
      "outputs": [
        {
          "output_type": "stream",
          "name": "stdout",
          "text": [
            "Enter a string: w\n",
            "Reversed string: w\n"
          ]
        }
      ]
    },
    {
      "cell_type": "markdown",
      "source": [
        " 15. Write a Python program to calculate the factorial of a number provided by the user using a while loop.\n",
        "  Java + DSA\n"
      ],
      "metadata": {
        "id": "jg1C8uWvZqsU"
      }
    },
    {
      "cell_type": "code",
      "source": [
        "num = int(input(\"Enter a number: \"))\n",
        "factorial = 1\n",
        "i = 1\n",
        "while i <= num:\n",
        "    factorial *= i\n",
        "    i += 1\n",
        "print(\"Factorial of\", num, \"is\", factorial)\n"
      ],
      "metadata": {
        "id": "X70rJvABZ3tW",
        "colab": {
          "base_uri": "https://localhost:8080/"
        },
        "outputId": "190c7f30-b81f-4351-8829-83725437b6f9"
      },
      "execution_count": null,
      "outputs": [
        {
          "output_type": "stream",
          "name": "stdout",
          "text": [
            "Enter a number: 12\n",
            "Factorial of 12 is 479001600\n"
          ]
        }
      ]
    }
  ]
}